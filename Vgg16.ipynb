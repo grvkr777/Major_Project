{
  "cells": [
    {
      "cell_type": "markdown",
      "source": [
        "**Project Contributors: 18111006 (Alan Biju), 18111015 (Ayush Rai), 18111016 (Banoth Naveen Kumar), 18111025 (Gaurav Kar)**\n",
        "\n",
        "**VGG16 Skin Cancer Classification**"
      ],
      "metadata": {
        "id": "4j-a7HIvvvvC"
      }
    },
    {
      "cell_type": "code",
      "execution_count": null,
      "metadata": {
        "colab": {
          "base_uri": "https://localhost:8080/"
        },
        "id": "O5X3ASNLkv3Y",
        "outputId": "79e7e2dd-4c4c-4702-fc63-1576af3d7f93"
      },
      "outputs": [
        {
          "name": "stdout",
          "output_type": "stream",
          "text": [
            "Mounted at /content/drive\n"
          ]
        }
      ],
      "source": [
        "from google.colab import drive\n",
        "drive.mount('/content/drive')"
      ]
    },
    {
      "cell_type": "code",
      "execution_count": null,
      "metadata": {
        "colab": {
          "base_uri": "https://localhost:8080/"
        },
        "id": "qTi0RAUGEfoM",
        "outputId": "e0b05ca6-0ebd-4ce0-926b-512e8122501f"
      },
      "outputs": [
        {
          "name": "stdout",
          "output_type": "stream",
          "text": [
            "done\n"
          ]
        }
      ],
      "source": [
        "from zipfile import ZipFile\n",
        "filename=\"/content/drive/My Drive/HAM10000.zip\"\n",
        "with ZipFile(filename,'r') as zip:\n",
        "  zip.extractall()\n",
        "  print(\"done\")\n"
      ]
    },
    {
      "cell_type": "code",
      "execution_count": null,
      "metadata": {
        "id": "Aa36bMKLze3z"
      },
      "outputs": [],
      "source": [
        "import pandas as pd\n",
        "import numpy as np\n",
        "import os\n",
        "import tensorflow as tf\n",
        "import cv2\n",
        "from keras import backend as K\n",
        "from keras.layers import Layer,InputSpec\n",
        "import keras.layers as kl\n",
        "from glob import glob\n",
        "from sklearn.metrics import roc_curve, auc\n",
        "from keras.preprocessing import image\n",
        "from tensorflow.keras.models import Sequential\n",
        "from sklearn.metrics import roc_auc_score\n",
        "from tensorflow.keras import callbacks \n",
        "from tensorflow.keras.callbacks import ModelCheckpoint,EarlyStopping\n",
        "from  matplotlib import pyplot as plt\n",
        "from tensorflow.keras import Model\n",
        "from tensorflow.keras.layers import concatenate,Dense, Conv2D, MaxPooling2D, Flatten,Input,Activation,add,AveragePooling2D,BatchNormalization,Dropout\n",
        "%matplotlib inline\n",
        "import shutil\n",
        "from sklearn.metrics import  precision_score, recall_score, accuracy_score,classification_report ,confusion_matrix\n",
        "from tensorflow.python.platform import build_info as tf_build_info\n",
        "from tensorflow.keras.preprocessing.image import ImageDataGenerator\n",
        "from sklearn.model_selection import train_test_split\n",
        "\n",
        "from PIL import ImageFile\n",
        "ImageFile.LOAD_TRUNCATED_IMAGES = True"
      ]
    },
    {
      "cell_type": "code",
      "execution_count": null,
      "metadata": {
        "colab": {
          "base_uri": "https://localhost:8080/",
          "height": 206
        },
        "id": "lnzRzk7e44HL",
        "outputId": "6d1e2d2f-1669-42a6-f6a7-45a52b73ce41"
      },
      "outputs": [
        {
          "data": {
            "text/html": [
              "<div>\n",
              "<style scoped>\n",
              "    .dataframe tbody tr th:only-of-type {\n",
              "        vertical-align: middle;\n",
              "    }\n",
              "\n",
              "    .dataframe tbody tr th {\n",
              "        vertical-align: top;\n",
              "    }\n",
              "\n",
              "    .dataframe thead th {\n",
              "        text-align: right;\n",
              "    }\n",
              "</style>\n",
              "<table border=\"1\" class=\"dataframe\">\n",
              "  <thead>\n",
              "    <tr style=\"text-align: right;\">\n",
              "      <th></th>\n",
              "      <th>lesion_id</th>\n",
              "      <th>image_id</th>\n",
              "      <th>dx</th>\n",
              "      <th>dx_type</th>\n",
              "      <th>age</th>\n",
              "      <th>sex</th>\n",
              "      <th>localization</th>\n",
              "    </tr>\n",
              "  </thead>\n",
              "  <tbody>\n",
              "    <tr>\n",
              "      <th>0</th>\n",
              "      <td>HAM_0000118</td>\n",
              "      <td>ISIC_0027419</td>\n",
              "      <td>bkl</td>\n",
              "      <td>histo</td>\n",
              "      <td>80.0</td>\n",
              "      <td>male</td>\n",
              "      <td>scalp</td>\n",
              "    </tr>\n",
              "    <tr>\n",
              "      <th>1</th>\n",
              "      <td>HAM_0000118</td>\n",
              "      <td>ISIC_0025030</td>\n",
              "      <td>bkl</td>\n",
              "      <td>histo</td>\n",
              "      <td>80.0</td>\n",
              "      <td>male</td>\n",
              "      <td>scalp</td>\n",
              "    </tr>\n",
              "    <tr>\n",
              "      <th>2</th>\n",
              "      <td>HAM_0002730</td>\n",
              "      <td>ISIC_0026769</td>\n",
              "      <td>bkl</td>\n",
              "      <td>histo</td>\n",
              "      <td>80.0</td>\n",
              "      <td>male</td>\n",
              "      <td>scalp</td>\n",
              "    </tr>\n",
              "    <tr>\n",
              "      <th>3</th>\n",
              "      <td>HAM_0002730</td>\n",
              "      <td>ISIC_0025661</td>\n",
              "      <td>bkl</td>\n",
              "      <td>histo</td>\n",
              "      <td>80.0</td>\n",
              "      <td>male</td>\n",
              "      <td>scalp</td>\n",
              "    </tr>\n",
              "    <tr>\n",
              "      <th>4</th>\n",
              "      <td>HAM_0001466</td>\n",
              "      <td>ISIC_0031633</td>\n",
              "      <td>bkl</td>\n",
              "      <td>histo</td>\n",
              "      <td>75.0</td>\n",
              "      <td>male</td>\n",
              "      <td>ear</td>\n",
              "    </tr>\n",
              "  </tbody>\n",
              "</table>\n",
              "</div>"
            ],
            "text/plain": [
              "     lesion_id      image_id   dx dx_type   age   sex localization\n",
              "0  HAM_0000118  ISIC_0027419  bkl   histo  80.0  male        scalp\n",
              "1  HAM_0000118  ISIC_0025030  bkl   histo  80.0  male        scalp\n",
              "2  HAM_0002730  ISIC_0026769  bkl   histo  80.0  male        scalp\n",
              "3  HAM_0002730  ISIC_0025661  bkl   histo  80.0  male        scalp\n",
              "4  HAM_0001466  ISIC_0031633  bkl   histo  75.0  male          ear"
            ]
          },
          "execution_count": 5,
          "metadata": {
            "tags": []
          },
          "output_type": "execute_result"
        }
      ],
      "source": [
        "data_pd = pd.read_csv('/content/drive/MyDrive/HAM10000_metadata.csv')\n",
        "data_pd.head()"
      ]
    },
    {
      "cell_type": "code",
      "execution_count": null,
      "metadata": {
        "id": "qlR6SjeEzXsm"
      },
      "outputs": [],
      "source": [
        "train_dir = os.path.join('HAM10000', 'train_dir')\n",
        "test_dir = os.path.join('HAM10000', 'test_dir')"
      ]
    },
    {
      "cell_type": "code",
      "execution_count": null,
      "metadata": {
        "colab": {
          "base_uri": "https://localhost:8080/",
          "height": 237
        },
        "id": "_IFqPgUu5jPj",
        "outputId": "979e5d51-8319-435c-f4db-1981b452c849"
      },
      "outputs": [
        {
          "data": {
            "text/html": [
              "<div>\n",
              "<style scoped>\n",
              "    .dataframe tbody tr th:only-of-type {\n",
              "        vertical-align: middle;\n",
              "    }\n",
              "\n",
              "    .dataframe tbody tr th {\n",
              "        vertical-align: top;\n",
              "    }\n",
              "\n",
              "    .dataframe thead th {\n",
              "        text-align: right;\n",
              "    }\n",
              "</style>\n",
              "<table border=\"1\" class=\"dataframe\">\n",
              "  <thead>\n",
              "    <tr style=\"text-align: right;\">\n",
              "      <th></th>\n",
              "      <th>image_id</th>\n",
              "      <th>dx</th>\n",
              "      <th>dx_type</th>\n",
              "      <th>age</th>\n",
              "      <th>sex</th>\n",
              "      <th>localization</th>\n",
              "    </tr>\n",
              "    <tr>\n",
              "      <th>lesion_id</th>\n",
              "      <th></th>\n",
              "      <th></th>\n",
              "      <th></th>\n",
              "      <th></th>\n",
              "      <th></th>\n",
              "      <th></th>\n",
              "    </tr>\n",
              "  </thead>\n",
              "  <tbody>\n",
              "    <tr>\n",
              "      <th>HAM_0000000</th>\n",
              "      <td>2</td>\n",
              "      <td>2</td>\n",
              "      <td>2</td>\n",
              "      <td>2</td>\n",
              "      <td>2</td>\n",
              "      <td>2</td>\n",
              "    </tr>\n",
              "    <tr>\n",
              "      <th>HAM_0000001</th>\n",
              "      <td>1</td>\n",
              "      <td>1</td>\n",
              "      <td>1</td>\n",
              "      <td>1</td>\n",
              "      <td>1</td>\n",
              "      <td>1</td>\n",
              "    </tr>\n",
              "    <tr>\n",
              "      <th>HAM_0000002</th>\n",
              "      <td>3</td>\n",
              "      <td>3</td>\n",
              "      <td>3</td>\n",
              "      <td>3</td>\n",
              "      <td>3</td>\n",
              "      <td>3</td>\n",
              "    </tr>\n",
              "    <tr>\n",
              "      <th>HAM_0000003</th>\n",
              "      <td>1</td>\n",
              "      <td>1</td>\n",
              "      <td>1</td>\n",
              "      <td>1</td>\n",
              "      <td>1</td>\n",
              "      <td>1</td>\n",
              "    </tr>\n",
              "    <tr>\n",
              "      <th>HAM_0000004</th>\n",
              "      <td>1</td>\n",
              "      <td>1</td>\n",
              "      <td>1</td>\n",
              "      <td>1</td>\n",
              "      <td>1</td>\n",
              "      <td>1</td>\n",
              "    </tr>\n",
              "  </tbody>\n",
              "</table>\n",
              "</div>"
            ],
            "text/plain": [
              "             image_id  dx  dx_type  age  sex  localization\n",
              "lesion_id                                                 \n",
              "HAM_0000000         2   2        2    2    2             2\n",
              "HAM_0000001         1   1        1    1    1             1\n",
              "HAM_0000002         3   3        3    3    3             3\n",
              "HAM_0000003         1   1        1    1    1             1\n",
              "HAM_0000004         1   1        1    1    1             1"
            ]
          },
          "execution_count": 7,
          "metadata": {
            "tags": []
          },
          "output_type": "execute_result"
        }
      ],
      "source": [
        "df_count = data_pd.groupby('lesion_id').count()\n",
        "df_count.head()"
      ]
    },
    {
      "cell_type": "code",
      "execution_count": null,
      "metadata": {
        "id": "QjMQNZRI2xl7"
      },
      "outputs": [],
      "source": [
        "df_count = df_count[df_count['dx'] == 1]\n",
        "df_count.reset_index(inplace=True)"
      ]
    },
    {
      "cell_type": "code",
      "execution_count": null,
      "metadata": {
        "id": "NeVfs-Ly95gs"
      },
      "outputs": [],
      "source": [
        "def duplicates(x):\n",
        "    unique = set(df_count['lesion_id'])\n",
        "    if x in unique:\n",
        "        return 'no' \n",
        "    else:\n",
        "        return 'duplicates'"
      ]
    },
    {
      "cell_type": "code",
      "execution_count": null,
      "metadata": {
        "colab": {
          "base_uri": "https://localhost:8080/",
          "height": 206
        },
        "id": "2WZZRSzO5v8t",
        "outputId": "5042fd49-03f1-48a6-ed7b-ac849f1fe0c9"
      },
      "outputs": [
        {
          "data": {
            "text/html": [
              "<div>\n",
              "<style scoped>\n",
              "    .dataframe tbody tr th:only-of-type {\n",
              "        vertical-align: middle;\n",
              "    }\n",
              "\n",
              "    .dataframe tbody tr th {\n",
              "        vertical-align: top;\n",
              "    }\n",
              "\n",
              "    .dataframe thead th {\n",
              "        text-align: right;\n",
              "    }\n",
              "</style>\n",
              "<table border=\"1\" class=\"dataframe\">\n",
              "  <thead>\n",
              "    <tr style=\"text-align: right;\">\n",
              "      <th></th>\n",
              "      <th>lesion_id</th>\n",
              "      <th>image_id</th>\n",
              "      <th>dx</th>\n",
              "      <th>dx_type</th>\n",
              "      <th>age</th>\n",
              "      <th>sex</th>\n",
              "      <th>localization</th>\n",
              "      <th>is_duplicate</th>\n",
              "    </tr>\n",
              "  </thead>\n",
              "  <tbody>\n",
              "    <tr>\n",
              "      <th>0</th>\n",
              "      <td>HAM_0000118</td>\n",
              "      <td>ISIC_0027419</td>\n",
              "      <td>bkl</td>\n",
              "      <td>histo</td>\n",
              "      <td>80.0</td>\n",
              "      <td>male</td>\n",
              "      <td>scalp</td>\n",
              "      <td>duplicates</td>\n",
              "    </tr>\n",
              "    <tr>\n",
              "      <th>1</th>\n",
              "      <td>HAM_0000118</td>\n",
              "      <td>ISIC_0025030</td>\n",
              "      <td>bkl</td>\n",
              "      <td>histo</td>\n",
              "      <td>80.0</td>\n",
              "      <td>male</td>\n",
              "      <td>scalp</td>\n",
              "      <td>duplicates</td>\n",
              "    </tr>\n",
              "    <tr>\n",
              "      <th>2</th>\n",
              "      <td>HAM_0002730</td>\n",
              "      <td>ISIC_0026769</td>\n",
              "      <td>bkl</td>\n",
              "      <td>histo</td>\n",
              "      <td>80.0</td>\n",
              "      <td>male</td>\n",
              "      <td>scalp</td>\n",
              "      <td>duplicates</td>\n",
              "    </tr>\n",
              "    <tr>\n",
              "      <th>3</th>\n",
              "      <td>HAM_0002730</td>\n",
              "      <td>ISIC_0025661</td>\n",
              "      <td>bkl</td>\n",
              "      <td>histo</td>\n",
              "      <td>80.0</td>\n",
              "      <td>male</td>\n",
              "      <td>scalp</td>\n",
              "      <td>duplicates</td>\n",
              "    </tr>\n",
              "    <tr>\n",
              "      <th>4</th>\n",
              "      <td>HAM_0001466</td>\n",
              "      <td>ISIC_0031633</td>\n",
              "      <td>bkl</td>\n",
              "      <td>histo</td>\n",
              "      <td>75.0</td>\n",
              "      <td>male</td>\n",
              "      <td>ear</td>\n",
              "      <td>duplicates</td>\n",
              "    </tr>\n",
              "  </tbody>\n",
              "</table>\n",
              "</div>"
            ],
            "text/plain": [
              "     lesion_id      image_id   dx dx_type   age   sex localization is_duplicate\n",
              "0  HAM_0000118  ISIC_0027419  bkl   histo  80.0  male        scalp   duplicates\n",
              "1  HAM_0000118  ISIC_0025030  bkl   histo  80.0  male        scalp   duplicates\n",
              "2  HAM_0002730  ISIC_0026769  bkl   histo  80.0  male        scalp   duplicates\n",
              "3  HAM_0002730  ISIC_0025661  bkl   histo  80.0  male        scalp   duplicates\n",
              "4  HAM_0001466  ISIC_0031633  bkl   histo  75.0  male          ear   duplicates"
            ]
          },
          "execution_count": 10,
          "metadata": {
            "tags": []
          },
          "output_type": "execute_result"
        }
      ],
      "source": [
        "data_pd['is_duplicate'] = data_pd['lesion_id'].apply(duplicates)\n",
        "data_pd.head()"
      ]
    },
    {
      "cell_type": "code",
      "execution_count": null,
      "metadata": {
        "id": "3BhGlAv0yAHu"
      },
      "outputs": [],
      "source": [
        "df_count = data_pd[data_pd['is_duplicate'] == 'no']"
      ]
    },
    {
      "cell_type": "code",
      "execution_count": null,
      "metadata": {
        "id": "Y3ndAO_Ex5fb"
      },
      "outputs": [],
      "source": [
        "train, test_df = train_test_split(df_count, test_size=0.15, stratify=df_count['dx'])"
      ]
    },
    {
      "cell_type": "code",
      "execution_count": null,
      "metadata": {
        "colab": {
          "base_uri": "https://localhost:8080/",
          "height": 206
        },
        "id": "T7w2kYUdNkjX",
        "outputId": "5b6b9660-79f4-4fdb-ec79-4d5366f99a3e"
      },
      "outputs": [
        {
          "data": {
            "text/html": [
              "<div>\n",
              "<style scoped>\n",
              "    .dataframe tbody tr th:only-of-type {\n",
              "        vertical-align: middle;\n",
              "    }\n",
              "\n",
              "    .dataframe tbody tr th {\n",
              "        vertical-align: top;\n",
              "    }\n",
              "\n",
              "    .dataframe thead th {\n",
              "        text-align: right;\n",
              "    }\n",
              "</style>\n",
              "<table border=\"1\" class=\"dataframe\">\n",
              "  <thead>\n",
              "    <tr style=\"text-align: right;\">\n",
              "      <th></th>\n",
              "      <th>lesion_id</th>\n",
              "      <th>image_id</th>\n",
              "      <th>dx</th>\n",
              "      <th>dx_type</th>\n",
              "      <th>age</th>\n",
              "      <th>sex</th>\n",
              "      <th>localization</th>\n",
              "      <th>is_duplicate</th>\n",
              "      <th>train_test_split</th>\n",
              "    </tr>\n",
              "  </thead>\n",
              "  <tbody>\n",
              "    <tr>\n",
              "      <th>0</th>\n",
              "      <td>HAM_0000118</td>\n",
              "      <td>ISIC_0027419</td>\n",
              "      <td>bkl</td>\n",
              "      <td>histo</td>\n",
              "      <td>80.0</td>\n",
              "      <td>male</td>\n",
              "      <td>scalp</td>\n",
              "      <td>duplicates</td>\n",
              "      <td>train</td>\n",
              "    </tr>\n",
              "    <tr>\n",
              "      <th>1</th>\n",
              "      <td>HAM_0000118</td>\n",
              "      <td>ISIC_0025030</td>\n",
              "      <td>bkl</td>\n",
              "      <td>histo</td>\n",
              "      <td>80.0</td>\n",
              "      <td>male</td>\n",
              "      <td>scalp</td>\n",
              "      <td>duplicates</td>\n",
              "      <td>train</td>\n",
              "    </tr>\n",
              "    <tr>\n",
              "      <th>2</th>\n",
              "      <td>HAM_0002730</td>\n",
              "      <td>ISIC_0026769</td>\n",
              "      <td>bkl</td>\n",
              "      <td>histo</td>\n",
              "      <td>80.0</td>\n",
              "      <td>male</td>\n",
              "      <td>scalp</td>\n",
              "      <td>duplicates</td>\n",
              "      <td>train</td>\n",
              "    </tr>\n",
              "    <tr>\n",
              "      <th>3</th>\n",
              "      <td>HAM_0002730</td>\n",
              "      <td>ISIC_0025661</td>\n",
              "      <td>bkl</td>\n",
              "      <td>histo</td>\n",
              "      <td>80.0</td>\n",
              "      <td>male</td>\n",
              "      <td>scalp</td>\n",
              "      <td>duplicates</td>\n",
              "      <td>train</td>\n",
              "    </tr>\n",
              "    <tr>\n",
              "      <th>4</th>\n",
              "      <td>HAM_0001466</td>\n",
              "      <td>ISIC_0031633</td>\n",
              "      <td>bkl</td>\n",
              "      <td>histo</td>\n",
              "      <td>75.0</td>\n",
              "      <td>male</td>\n",
              "      <td>ear</td>\n",
              "      <td>duplicates</td>\n",
              "      <td>train</td>\n",
              "    </tr>\n",
              "  </tbody>\n",
              "</table>\n",
              "</div>"
            ],
            "text/plain": [
              "     lesion_id      image_id   dx  ... localization  is_duplicate train_test_split\n",
              "0  HAM_0000118  ISIC_0027419  bkl  ...        scalp    duplicates            train\n",
              "1  HAM_0000118  ISIC_0025030  bkl  ...        scalp    duplicates            train\n",
              "2  HAM_0002730  ISIC_0026769  bkl  ...        scalp    duplicates            train\n",
              "3  HAM_0002730  ISIC_0025661  bkl  ...        scalp    duplicates            train\n",
              "4  HAM_0001466  ISIC_0031633  bkl  ...          ear    duplicates            train\n",
              "\n",
              "[5 rows x 9 columns]"
            ]
          },
          "execution_count": 13,
          "metadata": {
            "tags": []
          },
          "output_type": "execute_result"
        }
      ],
      "source": [
        "def identify_trainOrtest(x):\n",
        "    test_data = set(test_df['image_id'])\n",
        "    if str(x) in test_data:\n",
        "        return 'test'\n",
        "    else:\n",
        "        return 'train'\n",
        "\n",
        "#creating train_df\n",
        "data_pd['train_test_split'] = data_pd['image_id'].apply(identify_trainOrtest)\n",
        "train_df = data_pd[data_pd['train_test_split'] == 'train']\n",
        "train_df.head()"
      ]
    },
    {
      "cell_type": "code",
      "execution_count": null,
      "metadata": {
        "colab": {
          "base_uri": "https://localhost:8080/",
          "height": 206
        },
        "id": "FPySEG1m58pu",
        "outputId": "18fd6e44-8d62-4a88-efa7-d29aa64637ae"
      },
      "outputs": [
        {
          "data": {
            "text/html": [
              "<div>\n",
              "<style scoped>\n",
              "    .dataframe tbody tr th:only-of-type {\n",
              "        vertical-align: middle;\n",
              "    }\n",
              "\n",
              "    .dataframe tbody tr th {\n",
              "        vertical-align: top;\n",
              "    }\n",
              "\n",
              "    .dataframe thead th {\n",
              "        text-align: right;\n",
              "    }\n",
              "</style>\n",
              "<table border=\"1\" class=\"dataframe\">\n",
              "  <thead>\n",
              "    <tr style=\"text-align: right;\">\n",
              "      <th></th>\n",
              "      <th>lesion_id</th>\n",
              "      <th>image_id</th>\n",
              "      <th>dx</th>\n",
              "      <th>dx_type</th>\n",
              "      <th>age</th>\n",
              "      <th>sex</th>\n",
              "      <th>localization</th>\n",
              "      <th>is_duplicate</th>\n",
              "    </tr>\n",
              "  </thead>\n",
              "  <tbody>\n",
              "    <tr>\n",
              "      <th>5106</th>\n",
              "      <td>HAM_0004931</td>\n",
              "      <td>ISIC_0026428</td>\n",
              "      <td>nv</td>\n",
              "      <td>follow_up</td>\n",
              "      <td>50.0</td>\n",
              "      <td>male</td>\n",
              "      <td>lower extremity</td>\n",
              "      <td>no</td>\n",
              "    </tr>\n",
              "    <tr>\n",
              "      <th>6623</th>\n",
              "      <td>HAM_0001984</td>\n",
              "      <td>ISIC_0025092</td>\n",
              "      <td>nv</td>\n",
              "      <td>follow_up</td>\n",
              "      <td>50.0</td>\n",
              "      <td>male</td>\n",
              "      <td>trunk</td>\n",
              "      <td>no</td>\n",
              "    </tr>\n",
              "    <tr>\n",
              "      <th>5908</th>\n",
              "      <td>HAM_0001664</td>\n",
              "      <td>ISIC_0025217</td>\n",
              "      <td>nv</td>\n",
              "      <td>follow_up</td>\n",
              "      <td>50.0</td>\n",
              "      <td>male</td>\n",
              "      <td>back</td>\n",
              "      <td>no</td>\n",
              "    </tr>\n",
              "    <tr>\n",
              "      <th>4156</th>\n",
              "      <td>HAM_0005306</td>\n",
              "      <td>ISIC_0027056</td>\n",
              "      <td>nv</td>\n",
              "      <td>follow_up</td>\n",
              "      <td>60.0</td>\n",
              "      <td>male</td>\n",
              "      <td>back</td>\n",
              "      <td>no</td>\n",
              "    </tr>\n",
              "    <tr>\n",
              "      <th>4579</th>\n",
              "      <td>HAM_0002478</td>\n",
              "      <td>ISIC_0031787</td>\n",
              "      <td>nv</td>\n",
              "      <td>follow_up</td>\n",
              "      <td>60.0</td>\n",
              "      <td>female</td>\n",
              "      <td>unknown</td>\n",
              "      <td>no</td>\n",
              "    </tr>\n",
              "  </tbody>\n",
              "</table>\n",
              "</div>"
            ],
            "text/plain": [
              "        lesion_id      image_id  dx  ...     sex     localization is_duplicate\n",
              "5106  HAM_0004931  ISIC_0026428  nv  ...    male  lower extremity           no\n",
              "6623  HAM_0001984  ISIC_0025092  nv  ...    male            trunk           no\n",
              "5908  HAM_0001664  ISIC_0025217  nv  ...    male             back           no\n",
              "4156  HAM_0005306  ISIC_0027056  nv  ...    male             back           no\n",
              "4579  HAM_0002478  ISIC_0031787  nv  ...  female          unknown           no\n",
              "\n",
              "[5 rows x 8 columns]"
            ]
          },
          "execution_count": 14,
          "metadata": {
            "tags": []
          },
          "output_type": "execute_result"
        }
      ],
      "source": [
        "test_df.head()"
      ]
    },
    {
      "cell_type": "code",
      "execution_count": null,
      "metadata": {
        "id": "Ja7jQJQb39wi"
      },
      "outputs": [],
      "source": [
        "# Image id of train and test images\n",
        "train_list = list(train_df['image_id'])\n",
        "test_list = list(test_df['image_id'])"
      ]
    },
    {
      "cell_type": "code",
      "execution_count": null,
      "metadata": {
        "colab": {
          "base_uri": "https://localhost:8080/"
        },
        "id": "lBJgBAjP13q5",
        "outputId": "463d1b3f-d77c-49b0-d89e-9ce5d21a47e0"
      },
      "outputs": [
        {
          "data": {
            "text/plain": [
              "828"
            ]
          },
          "execution_count": 16,
          "metadata": {
            "tags": []
          },
          "output_type": "execute_result"
        }
      ],
      "source": [
        "len(test_list)"
      ]
    },
    {
      "cell_type": "code",
      "execution_count": null,
      "metadata": {
        "colab": {
          "base_uri": "https://localhost:8080/"
        },
        "id": "eEChk1DK-H8Z",
        "outputId": "612e1f17-9db3-4dea-c99e-0b7aa5ee566a"
      },
      "outputs": [
        {
          "data": {
            "text/plain": [
              "9187"
            ]
          },
          "execution_count": 17,
          "metadata": {
            "tags": []
          },
          "output_type": "execute_result"
        }
      ],
      "source": [
        "len(train_list)"
      ]
    },
    {
      "cell_type": "code",
      "execution_count": null,
      "metadata": {
        "id": "PIoMqylGAYYZ"
      },
      "outputs": [],
      "source": [
        "# Set the image_id as the index in data_pd\n",
        "data_pd.set_index('image_id', inplace=True)"
      ]
    },
    {
      "cell_type": "code",
      "execution_count": null,
      "metadata": {
        "id": "Ja_PtDYyDPMM"
      },
      "outputs": [],
      "source": [
        "os.mkdir(train_dir)\n",
        "os.mkdir(test_dir)"
      ]
    },
    {
      "cell_type": "code",
      "execution_count": null,
      "metadata": {
        "id": "PsoqCvNsgmHP"
      },
      "outputs": [],
      "source": [
        "targetnames = ['akiec', 'bcc', 'bkl', 'df', 'mel', 'nv', 'vasc']"
      ]
    },
    {
      "cell_type": "code",
      "execution_count": null,
      "metadata": {
        "id": "9KYMTQugCmRR"
      },
      "outputs": [],
      "source": [
        "for i in targetnames:\n",
        "  directory1=train_dir+'/'+i\n",
        "  directory2=test_dir+'/'+i\n",
        "  os.mkdir(directory1)\n",
        "  os.mkdir(directory2)"
      ]
    },
    {
      "cell_type": "code",
      "execution_count": null,
      "metadata": {
        "id": "GL9vFa3X-ty1"
      },
      "outputs": [],
      "source": [
        "for image in train_list:\n",
        "    file_name = image+'.jpg'\n",
        "    label = data_pd.loc[image, 'dx']\n",
        "\n",
        "    # path of source image \n",
        "    source = os.path.join('HAM10000', file_name)\n",
        "\n",
        "    # copying the image from the source to target file\n",
        "    target = os.path.join(train_dir, label, file_name)\n",
        "\n",
        "    shutil.copyfile(source, target)"
      ]
    },
    {
      "cell_type": "code",
      "execution_count": null,
      "metadata": {
        "id": "hwbKrEzJ_if2"
      },
      "outputs": [],
      "source": [
        "for image in test_list:\n",
        "\n",
        "    file_name = image+'.jpg'\n",
        "    label = data_pd.loc[image, 'dx']\n",
        "\n",
        "    # path of source image \n",
        "    source = os.path.join('HAM10000', file_name)\n",
        "\n",
        "    # copying the image from the source to target file\n",
        "    target = os.path.join(test_dir, label, file_name)\n",
        "\n",
        "    shutil.copyfile(source, target)"
      ]
    },
    {
      "cell_type": "code",
      "execution_count": null,
      "metadata": {
        "colab": {
          "base_uri": "https://localhost:8080/"
        },
        "id": "4W8hmE2OHjQa",
        "outputId": "e57e21fb-559b-40f8-8755-d8e45bd3e8a4"
      },
      "outputs": [
        {
          "name": "stdout",
          "output_type": "stream",
          "text": [
            "Found 304 images belonging to 1 classes.\n",
            "Found 488 images belonging to 1 classes.\n",
            "Found 1033 images belonging to 1 classes.\n",
            "Found 109 images belonging to 1 classes.\n",
            "Found 1079 images belonging to 1 classes.\n",
            "Found 6042 images belonging to 1 classes.\n",
            "Found 132 images belonging to 1 classes.\n"
          ]
        }
      ],
      "source": [
        "targetnames = ['akiec', 'bcc', 'bkl', 'df', 'mel', 'nv', 'vasc']\n",
        "\n",
        "# Augmenting images and storing them in temporary directories \n",
        "for img_class in targetnames:\n",
        "\n",
        "    #creating temporary directories\n",
        "    # creating a base directory\n",
        "    aug_dir = 'aug_dir'\n",
        "    os.mkdir(aug_dir)\n",
        "    # creating a subdirectory inside the base directory for images of the same class\n",
        "    img_dir = os.path.join(aug_dir, 'img_dir')\n",
        "    os.mkdir(img_dir)\n",
        "\n",
        "    img_list = os.listdir('HAM10000/train_dir/' + img_class)\n",
        "\n",
        "    # Copy images from the class train dir to the img_dir \n",
        "    for file_name in img_list:\n",
        "\n",
        "        # path of source image in training directory\n",
        "        source = os.path.join('HAM10000/train_dir/' + img_class, file_name)\n",
        "\n",
        "        # creating a target directory to send images \n",
        "        target = os.path.join(img_dir, file_name)\n",
        "\n",
        "        # copying the image from the source to target file\n",
        "        shutil.copyfile(source, target)\n",
        "\n",
        "    # Temporary augumented dataset directory.\n",
        "    source_path = aug_dir\n",
        "\n",
        "    # Augmented images will be saved to training directory\n",
        "    save_path = 'HAM10000/train_dir/' + img_class\n",
        "\n",
        "    # Creating Image Data Generator to augment images\n",
        "    datagen = tf.keras.preprocessing.image.ImageDataGenerator(\n",
        "\n",
        "        rotation_range=180,\n",
        "        width_shift_range=0.1,\n",
        "        height_shift_range=0.1,\n",
        "        zoom_range=0.1,\n",
        "        horizontal_flip=True,\n",
        "        vertical_flip=True,\n",
        "        fill_mode='nearest'\n",
        "\n",
        "    )\n",
        "\n",
        "    batch_size = 50\n",
        "\n",
        "    aug_datagen = datagen.flow_from_directory(source_path,save_to_dir=save_path,save_format='jpg',target_size=(224, 224),batch_size=batch_size)\n",
        "\n",
        "    # Generate the augmented images\n",
        "    aug_images = 8000 \n",
        "\n",
        "    num_files = len(os.listdir(img_dir))\n",
        "    num_batches = int(np.ceil((aug_images - num_files) / batch_size))\n",
        "\n",
        "    # creating 8000 augmented images per class\n",
        "    for i in range(0, num_batches):\n",
        "        images, labels = next(aug_datagen)\n",
        "\n",
        "    # delete temporary directory \n",
        "    shutil.rmtree('aug_dir')\n"
      ]
    },
    {
      "cell_type": "code",
      "execution_count": null,
      "metadata": {
        "id": "wNisha_gM3_Z"
      },
      "outputs": [],
      "source": [
        "train_path = 'HAM10000/train_dir'\n",
        "test_path = 'HAM10000/test_dir'\n",
        "batch_size=16"
      ]
    },
    {
      "cell_type": "code",
      "execution_count": null,
      "metadata": {
        "id": "zhQWqdRN79B3"
      },
      "outputs": [],
      "source": [
        "datagen=ImageDataGenerator(preprocessing_function=tf.keras.applications.inception_resnet_v2.preprocess_input)"
      ]
    },
    {
      "cell_type": "code",
      "execution_count": null,
      "metadata": {
        "colab": {
          "base_uri": "https://localhost:8080/"
        },
        "id": "w9_8FvOO7Rtu",
        "outputId": "7ca88c24-fda8-45d6-cb32-f3a43ae6ba5b"
      },
      "outputs": [
        {
          "name": "stdout",
          "output_type": "stream",
          "text": [
            "\n",
            "Train Batches: \n",
            "Found 51699 images belonging to 7 classes.\n",
            "\n",
            "Test Batches: \n",
            "Found 828 images belonging to 7 classes.\n"
          ]
        }
      ],
      "source": [
        "image_size = 224\n",
        "print(\"\\nTrain Batches: \")\n",
        "train_batches = datagen.flow_from_directory(directory=train_path,\n",
        "                                            target_size=(image_size,image_size),\n",
        "                                            batch_size=batch_size,\n",
        "                                            shuffle=True)\n",
        "\n",
        "print(\"\\nTest Batches: \")\n",
        "test_batches =datagen.flow_from_directory(test_path,\n",
        "                                           target_size=(image_size,image_size),\n",
        "                                           batch_size=batch_size,\n",
        "                                           shuffle=False)"
      ]
    },
    {
      "cell_type": "code",
      "execution_count": null,
      "metadata": {
        "id": "4d4Ta5LcSYaz"
      },
      "outputs": [],
      "source": [
        "MainInput=Input(shape=(224, 224, 3))"
      ]
    },
    {
      "cell_type": "code",
      "execution_count": null,
      "metadata": {
        "id": "LtSMEeZjSYa_"
      },
      "outputs": [],
      "source": [
        "conv=(Conv2D(filters=64,kernel_size=(3,3), activation=\"relu\",padding=\"same\",kernel_initializer='he_normal')(MainInput))\n",
        "conv=(BatchNormalization()(conv))\n",
        "conv=(Conv2D(filters=64,kernel_size=(1,1), activation=\"relu\",padding=\"same\",kernel_initializer='he_normal')(conv))\n",
        "conv=(BatchNormalization()(conv))"
      ]
    },
    {
      "cell_type": "code",
      "execution_count": null,
      "metadata": {
        "id": "wfhLPhssAm2S"
      },
      "outputs": [],
      "source": [
        "conv=(MaxPooling2D(strides=(2, 2),padding=\"same\")(conv))"
      ]
    },
    {
      "cell_type": "code",
      "execution_count": null,
      "metadata": {
        "id": "x8mS99J5SYbT"
      },
      "outputs": [],
      "source": [
        "conv=(Conv2D(filters=128,kernel_size=(3,3), activation=\"relu\",padding=\"same\",kernel_initializer='he_normal')(conv))\n",
        "conv=(BatchNormalization()(conv))\n",
        "conv=(Conv2D(filters=128,kernel_size=(1,1), activation=\"relu\",padding=\"same\",kernel_initializer='he_normal')(conv))\n",
        "conv=(BatchNormalization()(conv))"
      ]
    },
    {
      "cell_type": "code",
      "execution_count": null,
      "metadata": {
        "id": "R8ecZJFySYbb"
      },
      "outputs": [],
      "source": [
        "conv=(MaxPooling2D()(conv))"
      ]
    },
    {
      "cell_type": "code",
      "execution_count": null,
      "metadata": {
        "id": "sW4tKg9wSYbk"
      },
      "outputs": [],
      "source": [
        "conv=(Conv2D(filters=256,kernel_size=(3,3), activation=\"relu\",padding=\"same\",kernel_initializer='he_normal')(conv))\n",
        "conv=(BatchNormalization()(conv))\n",
        "conv=(Conv2D(filters=256,kernel_size=(3,3), activation=\"relu\",padding=\"same\",kernel_initializer='he_normal')(conv))\n",
        "conv=(BatchNormalization()(conv))\n",
        "conv=(Conv2D(filters=256,kernel_size=(1,1), activation=\"relu\",padding=\"same\",kernel_initializer='he_normal')(conv))\n",
        "conv=(BatchNormalization()(conv))"
      ]
    },
    {
      "cell_type": "code",
      "execution_count": null,
      "metadata": {
        "id": "qA1rFJLGSYbv"
      },
      "outputs": [],
      "source": [
        "conv=(MaxPooling2D()(conv))"
      ]
    },
    {
      "cell_type": "code",
      "execution_count": null,
      "metadata": {
        "id": "JDpRx5IESYb9"
      },
      "outputs": [],
      "source": [
        "conv=(Conv2D(filters=512,kernel_size=(3,3), activation=\"relu\",padding=\"same\",kernel_initializer='he_normal')(conv))\n",
        "conv=(BatchNormalization()(conv))\n",
        "conv=(Conv2D(filters=512,kernel_size=(3,3), activation=\"relu\",padding=\"same\",kernel_initializer='he_normal')(conv))\n",
        "conv=(BatchNormalization()(conv))\n",
        "conv=(Conv2D(filters=512,kernel_size=(1,1), activation=\"relu\",padding=\"same\",kernel_initializer='he_normal')(conv))\n",
        "conv=(BatchNormalization()(conv))"
      ]
    },
    {
      "cell_type": "code",
      "execution_count": null,
      "metadata": {
        "id": "P8rTETMOdR1N"
      },
      "outputs": [],
      "source": [
        "conv=(MaxPooling2D()(conv))"
      ]
    },
    {
      "cell_type": "code",
      "execution_count": null,
      "metadata": {
        "id": "NrLMX3RCSYcP"
      },
      "outputs": [],
      "source": [
        "conv=(Conv2D(filters=512,kernel_size=(3,3), activation=\"relu\",padding=\"same\",kernel_initializer='he_normal')(conv))\n",
        "conv=(BatchNormalization()(conv))\n",
        "conv=(Conv2D(filters=512,kernel_size=(3,3), activation=\"relu\",padding=\"same\",kernel_initializer='he_normal')(conv))\n",
        "conv=(BatchNormalization()(conv))\n",
        "conv=(Conv2D(filters=512,kernel_size=(1,1), activation=\"relu\",padding=\"same\",kernel_initializer='he_normal')(conv))\n",
        "conv=(BatchNormalization()(conv))"
      ]
    },
    {
      "cell_type": "code",
      "execution_count": null,
      "metadata": {
        "id": "eo8E7RxUSYcW"
      },
      "outputs": [],
      "source": [
        "conv=(MaxPooling2D(pool_size=(4, 4),padding=\"same\")(conv))"
      ]
    },
    {
      "cell_type": "code",
      "execution_count": null,
      "metadata": {
        "id": "-EdFxKdgSYcf"
      },
      "outputs": [],
      "source": [
        "conv=(Flatten()(conv))\n",
        "conv=(Dense(4096,activation=\"relu\")(conv))\n",
        "conv=(Dense(4096,activation=\"relu\")(conv))\n",
        "conv=(Dense(7, activation=\"softmax\")(conv))\n",
        "\n",
        "model = Model(inputs=MainInput, outputs=conv)"
      ]
    },
    {
      "cell_type": "code",
      "execution_count": null,
      "metadata": {
        "colab": {
          "base_uri": "https://localhost:8080/"
        },
        "id": "ba8ajOckSYcl",
        "outputId": "f0b2bee5-b4b3-47b2-add2-19f005c10250"
      },
      "outputs": [
        {
          "name": "stdout",
          "output_type": "stream",
          "text": [
            "Model: \"model\"\n",
            "_________________________________________________________________\n",
            "Layer (type)                 Output Shape              Param #   \n",
            "=================================================================\n",
            "input_1 (InputLayer)         [(None, 224, 224, 3)]     0         \n",
            "_________________________________________________________________\n",
            "conv2d (Conv2D)              (None, 224, 224, 64)      1792      \n",
            "_________________________________________________________________\n",
            "batch_normalization (BatchNo (None, 224, 224, 64)      256       \n",
            "_________________________________________________________________\n",
            "conv2d_1 (Conv2D)            (None, 224, 224, 64)      4160      \n",
            "_________________________________________________________________\n",
            "batch_normalization_1 (Batch (None, 224, 224, 64)      256       \n",
            "_________________________________________________________________\n",
            "max_pooling2d (MaxPooling2D) (None, 112, 112, 64)      0         \n",
            "_________________________________________________________________\n",
            "conv2d_2 (Conv2D)            (None, 112, 112, 128)     73856     \n",
            "_________________________________________________________________\n",
            "batch_normalization_2 (Batch (None, 112, 112, 128)     512       \n",
            "_________________________________________________________________\n",
            "conv2d_3 (Conv2D)            (None, 112, 112, 128)     16512     \n",
            "_________________________________________________________________\n",
            "batch_normalization_3 (Batch (None, 112, 112, 128)     512       \n",
            "_________________________________________________________________\n",
            "max_pooling2d_1 (MaxPooling2 (None, 56, 56, 128)       0         \n",
            "_________________________________________________________________\n",
            "conv2d_4 (Conv2D)            (None, 56, 56, 256)       295168    \n",
            "_________________________________________________________________\n",
            "batch_normalization_4 (Batch (None, 56, 56, 256)       1024      \n",
            "_________________________________________________________________\n",
            "conv2d_5 (Conv2D)            (None, 56, 56, 256)       590080    \n",
            "_________________________________________________________________\n",
            "batch_normalization_5 (Batch (None, 56, 56, 256)       1024      \n",
            "_________________________________________________________________\n",
            "conv2d_6 (Conv2D)            (None, 56, 56, 256)       65792     \n",
            "_________________________________________________________________\n",
            "batch_normalization_6 (Batch (None, 56, 56, 256)       1024      \n",
            "_________________________________________________________________\n",
            "max_pooling2d_2 (MaxPooling2 (None, 28, 28, 256)       0         \n",
            "_________________________________________________________________\n",
            "conv2d_7 (Conv2D)            (None, 28, 28, 512)       1180160   \n",
            "_________________________________________________________________\n",
            "batch_normalization_7 (Batch (None, 28, 28, 512)       2048      \n",
            "_________________________________________________________________\n",
            "conv2d_8 (Conv2D)            (None, 28, 28, 512)       2359808   \n",
            "_________________________________________________________________\n",
            "batch_normalization_8 (Batch (None, 28, 28, 512)       2048      \n",
            "_________________________________________________________________\n",
            "conv2d_9 (Conv2D)            (None, 28, 28, 512)       262656    \n",
            "_________________________________________________________________\n",
            "batch_normalization_9 (Batch (None, 28, 28, 512)       2048      \n",
            "_________________________________________________________________\n",
            "max_pooling2d_3 (MaxPooling2 (None, 14, 14, 512)       0         \n",
            "_________________________________________________________________\n",
            "conv2d_10 (Conv2D)           (None, 14, 14, 512)       2359808   \n",
            "_________________________________________________________________\n",
            "batch_normalization_10 (Batc (None, 14, 14, 512)       2048      \n",
            "_________________________________________________________________\n",
            "conv2d_11 (Conv2D)           (None, 14, 14, 512)       2359808   \n",
            "_________________________________________________________________\n",
            "batch_normalization_11 (Batc (None, 14, 14, 512)       2048      \n",
            "_________________________________________________________________\n",
            "conv2d_12 (Conv2D)           (None, 14, 14, 512)       262656    \n",
            "_________________________________________________________________\n",
            "batch_normalization_12 (Batc (None, 14, 14, 512)       2048      \n",
            "_________________________________________________________________\n",
            "max_pooling2d_4 (MaxPooling2 (None, 4, 4, 512)         0         \n",
            "_________________________________________________________________\n",
            "flatten (Flatten)            (None, 8192)              0         \n",
            "_________________________________________________________________\n",
            "dense (Dense)                (None, 4096)              33558528  \n",
            "_________________________________________________________________\n",
            "dense_1 (Dense)              (None, 4096)              16781312  \n",
            "_________________________________________________________________\n",
            "dense_2 (Dense)              (None, 7)                 28679     \n",
            "=================================================================\n",
            "Total params: 60,217,671\n",
            "Trainable params: 60,209,223\n",
            "Non-trainable params: 8,448\n",
            "_________________________________________________________________\n"
          ]
        }
      ],
      "source": [
        "\n",
        "model.summary()"
      ]
    },
    {
      "cell_type": "code",
      "execution_count": null,
      "metadata": {
        "id": "WR0fUpy18vAZ"
      },
      "outputs": [],
      "source": [
        "opt1=tf.keras.optimizers.Adam(learning_rate=0.01,epsilon=0.1)\n",
        "model.compile(optimizer=opt1,\n",
        "             loss='categorical_crossentropy',\n",
        "             metrics=['accuracy'])"
      ]
    },
    {
      "cell_type": "code",
      "execution_count": null,
      "metadata": {
        "id": "LAf5ha295reS"
      },
      "outputs": [],
      "source": [
        "class_weights = {   \n",
        "                    0: 1.0,  # akiec\n",
        "                    1: 1.0,  # bcc\n",
        "                    2: 1.0,  # bkl\n",
        "                    3: 1.0,  # df\n",
        "                    4: 5.0,  # mel\n",
        "                    5: 1.0,  # nv\n",
        "                    6: 1.0,  # vasc\n",
        "                }\n",
        "\n",
        "\n",
        "checkpoint=  ModelCheckpoint(filepath ='vgg16.hdf5',monitor='val_accuracy',save_best_only=True,save_weights_only=True)\n",
        "\n",
        "\n"
      ]
    },
    {
      "cell_type": "code",
      "execution_count": null,
      "metadata": {
        "colab": {
          "base_uri": "https://localhost:8080/"
        },
        "id": "NUzTmiZ-8hL3",
        "outputId": "e7b9dd8c-7844-4a76-a54e-99f96d9b8ba6"
      },
      "outputs": [
        {
          "name": "stdout",
          "output_type": "stream",
          "text": [
            "Epoch 1/300\n",
            "919/919 - 80s - loss: 2.8670 - accuracy: 0.2859 - val_loss: 1.5838 - val_accuracy: 0.3213\n",
            "Epoch 2/300\n",
            "919/919 - 75s - loss: 2.4159 - accuracy: 0.2720 - val_loss: 1.4403 - val_accuracy: 0.3780\n",
            "Epoch 3/300\n",
            "919/919 - 74s - loss: 2.2912 - accuracy: 0.2678 - val_loss: 2.0536 - val_accuracy: 0.1159\n",
            "Epoch 4/300\n",
            "919/919 - 74s - loss: 2.2609 - accuracy: 0.2831 - val_loss: 1.8404 - val_accuracy: 0.0966\n",
            "Epoch 5/300\n",
            "919/919 - 74s - loss: 2.2313 - accuracy: 0.2761 - val_loss: 2.2739 - val_accuracy: 0.0531\n",
            "Epoch 6/300\n",
            "919/919 - 75s - loss: 2.1076 - accuracy: 0.3131 - val_loss: 1.5940 - val_accuracy: 0.2681\n",
            "Epoch 7/300\n",
            "919/919 - 74s - loss: 2.0572 - accuracy: 0.3485 - val_loss: 1.4330 - val_accuracy: 0.5133\n",
            "Epoch 8/300\n",
            "919/919 - 74s - loss: 1.9898 - accuracy: 0.3641 - val_loss: 0.9646 - val_accuracy: 0.6812\n",
            "Epoch 9/300\n",
            "919/919 - 74s - loss: 2.1988 - accuracy: 0.3367 - val_loss: 1.3441 - val_accuracy: 0.4324\n",
            "Epoch 10/300\n",
            "919/919 - 74s - loss: 1.9877 - accuracy: 0.3671 - val_loss: 1.2038 - val_accuracy: 0.6111\n",
            "Epoch 11/300\n",
            "919/919 - 74s - loss: 1.9149 - accuracy: 0.3887 - val_loss: 2.1005 - val_accuracy: 0.2500\n",
            "Epoch 12/300\n",
            "919/919 - 74s - loss: 1.8560 - accuracy: 0.4153 - val_loss: 1.2196 - val_accuracy: 0.4565\n",
            "Epoch 13/300\n",
            "919/919 - 74s - loss: 1.8365 - accuracy: 0.4099 - val_loss: 0.9637 - val_accuracy: 0.7041\n",
            "Epoch 14/300\n",
            "919/919 - 74s - loss: 1.8314 - accuracy: 0.4256 - val_loss: 0.7924 - val_accuracy: 0.7367\n",
            "Epoch 15/300\n",
            "919/919 - 74s - loss: 1.7682 - accuracy: 0.4386 - val_loss: 1.0089 - val_accuracy: 0.6014\n",
            "Epoch 16/300\n",
            "919/919 - 74s - loss: 1.7269 - accuracy: 0.4437 - val_loss: 0.9648 - val_accuracy: 0.6171\n",
            "Epoch 17/300\n",
            "919/919 - 74s - loss: 1.7036 - accuracy: 0.4572 - val_loss: 0.6420 - val_accuracy: 0.7754\n",
            "Epoch 18/300\n",
            "919/919 - 74s - loss: 1.6537 - accuracy: 0.4744 - val_loss: 0.7674 - val_accuracy: 0.7512\n",
            "Epoch 19/300\n",
            "919/919 - 74s - loss: 1.6805 - accuracy: 0.4680 - val_loss: 0.8355 - val_accuracy: 0.6981\n",
            "Epoch 20/300\n",
            "919/919 - 74s - loss: 1.6258 - accuracy: 0.4721 - val_loss: 0.7719 - val_accuracy: 0.7367\n",
            "Epoch 21/300\n",
            "919/919 - 74s - loss: 1.5908 - accuracy: 0.4867 - val_loss: 0.6742 - val_accuracy: 0.7669\n",
            "Epoch 22/300\n",
            "919/919 - 74s - loss: 1.4862 - accuracy: 0.5233 - val_loss: 0.6970 - val_accuracy: 0.7572\n",
            "Epoch 23/300\n",
            "919/919 - 74s - loss: 1.4850 - accuracy: 0.5270 - val_loss: 0.6685 - val_accuracy: 0.7512\n",
            "Epoch 24/300\n",
            "919/919 - 74s - loss: 1.4678 - accuracy: 0.5376 - val_loss: 0.6546 - val_accuracy: 0.7814\n",
            "Epoch 25/300\n",
            "919/919 - 74s - loss: 1.4665 - accuracy: 0.5404 - val_loss: 0.6198 - val_accuracy: 0.8019\n",
            "Epoch 26/300\n",
            "919/919 - 74s - loss: 1.4252 - accuracy: 0.5437 - val_loss: 0.6650 - val_accuracy: 0.7585\n",
            "Epoch 27/300\n",
            "919/919 - 74s - loss: 1.3972 - accuracy: 0.5600 - val_loss: 0.6791 - val_accuracy: 0.7669\n",
            "Epoch 28/300\n",
            "919/919 - 75s - loss: 1.4032 - accuracy: 0.5605 - val_loss: 0.6822 - val_accuracy: 0.7379\n",
            "Epoch 29/300\n",
            "919/919 - 75s - loss: 1.3502 - accuracy: 0.5720 - val_loss: 0.7563 - val_accuracy: 0.7246\n",
            "Epoch 30/300\n",
            "919/919 - 75s - loss: 1.3523 - accuracy: 0.5715 - val_loss: 0.6357 - val_accuracy: 0.7645\n",
            "Epoch 31/300\n",
            "919/919 - 75s - loss: 1.3614 - accuracy: 0.5754 - val_loss: 0.5383 - val_accuracy: 0.8092\n",
            "Epoch 32/300\n",
            "919/919 - 75s - loss: 1.2889 - accuracy: 0.5972 - val_loss: 0.5534 - val_accuracy: 0.8068\n",
            "Epoch 33/300\n",
            "919/919 - 74s - loss: 1.2696 - accuracy: 0.6012 - val_loss: 0.4955 - val_accuracy: 0.8225\n",
            "Epoch 34/300\n",
            "919/919 - 74s - loss: 1.2464 - accuracy: 0.6101 - val_loss: 0.7340 - val_accuracy: 0.7198\n",
            "Epoch 35/300\n",
            "919/919 - 74s - loss: 1.2668 - accuracy: 0.6060 - val_loss: 0.5255 - val_accuracy: 0.8188\n",
            "Epoch 36/300\n",
            "919/919 - 75s - loss: 1.2268 - accuracy: 0.6196 - val_loss: 0.5798 - val_accuracy: 0.8007\n",
            "Epoch 37/300\n",
            "919/919 - 75s - loss: 1.2293 - accuracy: 0.6197 - val_loss: 0.5180 - val_accuracy: 0.8273\n",
            "Epoch 38/300\n",
            "919/919 - 75s - loss: 1.2129 - accuracy: 0.6318 - val_loss: 0.6435 - val_accuracy: 0.7850\n",
            "Epoch 39/300\n",
            "919/919 - 75s - loss: 1.1368 - accuracy: 0.6467 - val_loss: 0.5648 - val_accuracy: 0.8043\n",
            "Epoch 40/300\n",
            "919/919 - 75s - loss: 1.1588 - accuracy: 0.6419 - val_loss: 0.5538 - val_accuracy: 0.8176\n",
            "Epoch 41/300\n",
            "919/919 - 75s - loss: 1.1518 - accuracy: 0.6486 - val_loss: 0.5352 - val_accuracy: 0.8104\n",
            "Epoch 42/300\n",
            "919/919 - 75s - loss: 1.1347 - accuracy: 0.6527 - val_loss: 0.6719 - val_accuracy: 0.7790\n",
            "Epoch 43/300\n",
            "919/919 - 75s - loss: 1.1483 - accuracy: 0.6510 - val_loss: 0.5343 - val_accuracy: 0.8285\n",
            "Epoch 44/300\n",
            "919/919 - 75s - loss: 1.0940 - accuracy: 0.6647 - val_loss: 0.7169 - val_accuracy: 0.7440\n",
            "Epoch 45/300\n",
            "919/919 - 75s - loss: 1.0866 - accuracy: 0.6672 - val_loss: 0.5652 - val_accuracy: 0.7971\n",
            "Epoch 46/300\n",
            "919/919 - 75s - loss: 1.0566 - accuracy: 0.6737 - val_loss: 0.4856 - val_accuracy: 0.8213\n",
            "Epoch 47/300\n",
            "919/919 - 75s - loss: 1.0838 - accuracy: 0.6669 - val_loss: 0.4781 - val_accuracy: 0.8140\n",
            "Epoch 48/300\n",
            "919/919 - 75s - loss: 1.0779 - accuracy: 0.6691 - val_loss: 0.6065 - val_accuracy: 0.7802\n",
            "Epoch 49/300\n",
            "919/919 - 75s - loss: 1.0339 - accuracy: 0.6852 - val_loss: 0.5487 - val_accuracy: 0.8297\n",
            "Epoch 50/300\n",
            "919/919 - 75s - loss: 1.0432 - accuracy: 0.6853 - val_loss: 0.6484 - val_accuracy: 0.7705\n",
            "Epoch 51/300\n",
            "919/919 - 75s - loss: 0.9831 - accuracy: 0.7017 - val_loss: 0.5617 - val_accuracy: 0.7983\n",
            "Epoch 52/300\n",
            "919/919 - 75s - loss: 1.0412 - accuracy: 0.6812 - val_loss: 0.6265 - val_accuracy: 0.7669\n",
            "Epoch 53/300\n",
            "919/919 - 75s - loss: 0.9679 - accuracy: 0.6992 - val_loss: 0.5853 - val_accuracy: 0.8019\n",
            "Epoch 54/300\n",
            "919/919 - 75s - loss: 0.9432 - accuracy: 0.7171 - val_loss: 0.5871 - val_accuracy: 0.8176\n",
            "Epoch 55/300\n",
            "919/919 - 75s - loss: 0.9699 - accuracy: 0.7088 - val_loss: 0.5295 - val_accuracy: 0.8285\n",
            "Epoch 56/300\n",
            "919/919 - 75s - loss: 0.9638 - accuracy: 0.7127 - val_loss: 0.4842 - val_accuracy: 0.8273\n",
            "Epoch 57/300\n",
            "919/919 - 75s - loss: 0.9639 - accuracy: 0.7171 - val_loss: 0.6362 - val_accuracy: 0.7995\n",
            "Epoch 58/300\n",
            "919/919 - 75s - loss: 0.9002 - accuracy: 0.7295 - val_loss: 0.6144 - val_accuracy: 0.8152\n",
            "Epoch 59/300\n",
            "919/919 - 76s - loss: 0.8908 - accuracy: 0.7371 - val_loss: 0.5454 - val_accuracy: 0.8430\n",
            "Epoch 60/300\n",
            "919/919 - 76s - loss: 0.8922 - accuracy: 0.7347 - val_loss: 0.5438 - val_accuracy: 0.8418\n",
            "Epoch 61/300\n",
            "919/919 - 75s - loss: 0.8763 - accuracy: 0.7416 - val_loss: 0.5875 - val_accuracy: 0.8261\n",
            "Epoch 62/300\n",
            "919/919 - 75s - loss: 0.9454 - accuracy: 0.7175 - val_loss: 1.4152 - val_accuracy: 0.3671\n",
            "Epoch 63/300\n",
            "919/919 - 75s - loss: 0.8887 - accuracy: 0.7373 - val_loss: 0.5771 - val_accuracy: 0.8333\n",
            "Epoch 64/300\n",
            "919/919 - 75s - loss: 0.8415 - accuracy: 0.7507 - val_loss: 0.5194 - val_accuracy: 0.8309\n",
            "Epoch 65/300\n",
            "919/919 - 75s - loss: 0.8323 - accuracy: 0.7553 - val_loss: 0.4590 - val_accuracy: 0.8490\n",
            "Epoch 66/300\n",
            "919/919 - 76s - loss: 0.8348 - accuracy: 0.7550 - val_loss: 0.5474 - val_accuracy: 0.8213\n",
            "Epoch 67/300\n",
            "919/919 - 75s - loss: 0.8449 - accuracy: 0.7533 - val_loss: 0.6362 - val_accuracy: 0.7621\n",
            "Epoch 68/300\n",
            "919/919 - 75s - loss: 0.8009 - accuracy: 0.7632 - val_loss: 0.5117 - val_accuracy: 0.8514\n",
            "Epoch 69/300\n",
            "919/919 - 75s - loss: 0.7945 - accuracy: 0.7670 - val_loss: 0.5087 - val_accuracy: 0.8116\n",
            "Epoch 70/300\n",
            "919/919 - 75s - loss: 0.7956 - accuracy: 0.7663 - val_loss: 0.5216 - val_accuracy: 0.8357\n",
            "Epoch 71/300\n",
            "919/919 - 75s - loss: 0.7978 - accuracy: 0.7684 - val_loss: 0.5276 - val_accuracy: 0.8080\n",
            "Epoch 72/300\n",
            "919/919 - 75s - loss: 0.7857 - accuracy: 0.7711 - val_loss: 0.5270 - val_accuracy: 0.8285\n",
            "Epoch 73/300\n",
            "919/919 - 75s - loss: 0.7215 - accuracy: 0.7862 - val_loss: 0.6406 - val_accuracy: 0.7814\n",
            "Epoch 74/300\n",
            "919/919 - 75s - loss: 0.7737 - accuracy: 0.7752 - val_loss: 0.4557 - val_accuracy: 0.8539\n",
            "Epoch 75/300\n",
            "919/919 - 75s - loss: 0.7604 - accuracy: 0.7810 - val_loss: 0.5001 - val_accuracy: 0.8575\n",
            "Epoch 76/300\n",
            "919/919 - 75s - loss: 0.7979 - accuracy: 0.7708 - val_loss: 0.4853 - val_accuracy: 0.8394\n",
            "Epoch 77/300\n",
            "919/919 - 75s - loss: 0.7047 - accuracy: 0.7933 - val_loss: 0.5662 - val_accuracy: 0.8225\n",
            "Epoch 78/300\n",
            "919/919 - 75s - loss: 0.7142 - accuracy: 0.7918 - val_loss: 0.5497 - val_accuracy: 0.8418\n",
            "Epoch 79/300\n",
            "919/919 - 75s - loss: 0.7631 - accuracy: 0.7884 - val_loss: 0.5621 - val_accuracy: 0.8514\n",
            "Epoch 80/300\n",
            "919/919 - 75s - loss: 0.7024 - accuracy: 0.7926 - val_loss: 0.5623 - val_accuracy: 0.8406\n",
            "Epoch 81/300\n",
            "919/919 - 75s - loss: 0.6939 - accuracy: 0.8041 - val_loss: 0.4761 - val_accuracy: 0.8418\n",
            "Epoch 82/300\n",
            "919/919 - 75s - loss: 0.7132 - accuracy: 0.7996 - val_loss: 0.5781 - val_accuracy: 0.7995\n",
            "Epoch 83/300\n",
            "919/919 - 75s - loss: 0.7572 - accuracy: 0.7871 - val_loss: 0.6039 - val_accuracy: 0.8104\n",
            "Epoch 84/300\n",
            "919/919 - 75s - loss: 0.6590 - accuracy: 0.8113 - val_loss: 0.5518 - val_accuracy: 0.8345\n",
            "Epoch 85/300\n",
            "919/919 - 75s - loss: 0.6579 - accuracy: 0.8150 - val_loss: 0.5124 - val_accuracy: 0.8454\n",
            "Epoch 86/300\n",
            "919/919 - 75s - loss: 0.7551 - accuracy: 0.7917 - val_loss: 0.5198 - val_accuracy: 0.8382\n",
            "Epoch 87/300\n",
            "919/919 - 75s - loss: 0.6615 - accuracy: 0.8137 - val_loss: 0.5062 - val_accuracy: 0.8514\n",
            "Epoch 88/300\n",
            "919/919 - 75s - loss: 0.6158 - accuracy: 0.8259 - val_loss: 0.5688 - val_accuracy: 0.8321\n",
            "Epoch 89/300\n",
            "919/919 - 75s - loss: 0.6413 - accuracy: 0.8152 - val_loss: 0.6438 - val_accuracy: 0.7874\n",
            "Epoch 90/300\n",
            "919/919 - 75s - loss: 0.6529 - accuracy: 0.8173 - val_loss: 0.6040 - val_accuracy: 0.8442\n",
            "Epoch 91/300\n",
            "919/919 - 75s - loss: 0.6230 - accuracy: 0.8307 - val_loss: 0.6100 - val_accuracy: 0.8068\n",
            "Epoch 92/300\n",
            "919/919 - 75s - loss: 0.6204 - accuracy: 0.8240 - val_loss: 0.5053 - val_accuracy: 0.8406\n",
            "Epoch 93/300\n",
            "919/919 - 75s - loss: 0.5773 - accuracy: 0.8365 - val_loss: 0.6638 - val_accuracy: 0.7935\n",
            "Epoch 94/300\n",
            "919/919 - 75s - loss: 0.5841 - accuracy: 0.8378 - val_loss: 0.5881 - val_accuracy: 0.8442\n",
            "Epoch 95/300\n",
            "919/919 - 75s - loss: 0.5756 - accuracy: 0.8353 - val_loss: 0.5875 - val_accuracy: 0.8261\n",
            "Epoch 96/300\n",
            "919/919 - 75s - loss: 0.5708 - accuracy: 0.8402 - val_loss: 0.6444 - val_accuracy: 0.8502\n",
            "Epoch 97/300\n",
            "919/919 - 75s - loss: 0.5982 - accuracy: 0.8368 - val_loss: 0.4920 - val_accuracy: 0.8551\n",
            "Epoch 98/300\n",
            "919/919 - 75s - loss: 0.5646 - accuracy: 0.8467 - val_loss: 0.5797 - val_accuracy: 0.8563\n",
            "Epoch 99/300\n",
            "919/919 - 75s - loss: 0.5887 - accuracy: 0.8345 - val_loss: 0.5241 - val_accuracy: 0.8382\n",
            "Epoch 100/300\n",
            "919/919 - 75s - loss: 0.5836 - accuracy: 0.8409 - val_loss: 0.6886 - val_accuracy: 0.8007\n",
            "Epoch 101/300\n",
            "919/919 - 75s - loss: 0.6320 - accuracy: 0.8286 - val_loss: 0.7483 - val_accuracy: 0.8225\n",
            "Epoch 102/300\n",
            "919/919 - 75s - loss: 0.6268 - accuracy: 0.8324 - val_loss: 0.6541 - val_accuracy: 0.8176\n",
            "Epoch 103/300\n",
            "919/919 - 75s - loss: 0.5695 - accuracy: 0.8483 - val_loss: 0.6956 - val_accuracy: 0.7899\n",
            "Epoch 104/300\n",
            "919/919 - 75s - loss: 0.5503 - accuracy: 0.8492 - val_loss: 0.5838 - val_accuracy: 0.8309\n",
            "Epoch 105/300\n",
            "919/919 - 75s - loss: 0.5134 - accuracy: 0.8626 - val_loss: 0.5408 - val_accuracy: 0.8514\n",
            "Epoch 106/300\n",
            "919/919 - 75s - loss: 0.5416 - accuracy: 0.8507 - val_loss: 0.7164 - val_accuracy: 0.8466\n",
            "Epoch 107/300\n",
            "919/919 - 75s - loss: 0.5163 - accuracy: 0.8624 - val_loss: 0.4972 - val_accuracy: 0.8623\n",
            "Epoch 108/300\n",
            "919/919 - 75s - loss: 0.5356 - accuracy: 0.8600 - val_loss: 0.5353 - val_accuracy: 0.8587\n",
            "Epoch 109/300\n",
            "919/919 - 75s - loss: 0.5253 - accuracy: 0.8601 - val_loss: 0.7384 - val_accuracy: 0.7778\n",
            "Epoch 110/300\n",
            "919/919 - 75s - loss: 0.5210 - accuracy: 0.8566 - val_loss: 0.5711 - val_accuracy: 0.8514\n",
            "Epoch 111/300\n",
            "919/919 - 75s - loss: 0.5188 - accuracy: 0.8634 - val_loss: 0.6846 - val_accuracy: 0.8213\n",
            "Epoch 112/300\n",
            "919/919 - 75s - loss: 0.4821 - accuracy: 0.8706 - val_loss: 0.5118 - val_accuracy: 0.8539\n",
            "Epoch 113/300\n",
            "919/919 - 75s - loss: 0.5176 - accuracy: 0.8625 - val_loss: 0.7657 - val_accuracy: 0.8043\n",
            "Epoch 114/300\n",
            "919/919 - 75s - loss: 0.5477 - accuracy: 0.8547 - val_loss: 0.6257 - val_accuracy: 0.8418\n",
            "Epoch 115/300\n",
            "919/919 - 75s - loss: 0.4856 - accuracy: 0.8701 - val_loss: 0.6248 - val_accuracy: 0.8623\n",
            "Epoch 116/300\n",
            "919/919 - 75s - loss: 0.4954 - accuracy: 0.8699 - val_loss: 0.6873 - val_accuracy: 0.8273\n",
            "Epoch 117/300\n",
            "919/919 - 75s - loss: 0.4822 - accuracy: 0.8727 - val_loss: 0.6378 - val_accuracy: 0.8285\n",
            "Epoch 118/300\n",
            "919/919 - 75s - loss: 0.5276 - accuracy: 0.8628 - val_loss: 0.5406 - val_accuracy: 0.8502\n",
            "Epoch 119/300\n",
            "919/919 - 75s - loss: 0.4263 - accuracy: 0.8861 - val_loss: 0.6109 - val_accuracy: 0.8623\n",
            "Epoch 120/300\n",
            "919/919 - 75s - loss: 0.5037 - accuracy: 0.8704 - val_loss: 0.7430 - val_accuracy: 0.8019\n",
            "Epoch 121/300\n",
            "919/919 - 75s - loss: 0.5196 - accuracy: 0.8643 - val_loss: 0.7245 - val_accuracy: 0.7959\n",
            "Epoch 122/300\n",
            "919/919 - 75s - loss: 0.4463 - accuracy: 0.8811 - val_loss: 0.6098 - val_accuracy: 0.8442\n",
            "Epoch 123/300\n",
            "919/919 - 75s - loss: 0.5995 - accuracy: 0.8501 - val_loss: 0.6048 - val_accuracy: 0.8478\n",
            "Epoch 124/300\n",
            "919/919 - 75s - loss: 0.5215 - accuracy: 0.8662 - val_loss: 0.6849 - val_accuracy: 0.8092\n",
            "Epoch 125/300\n",
            "919/919 - 75s - loss: 0.4514 - accuracy: 0.8766 - val_loss: 0.6526 - val_accuracy: 0.8635\n",
            "Epoch 126/300\n",
            "919/919 - 76s - loss: 0.4375 - accuracy: 0.8851 - val_loss: 0.7095 - val_accuracy: 0.8442\n",
            "Epoch 127/300\n",
            "919/919 - 75s - loss: 0.4890 - accuracy: 0.8733 - val_loss: 0.7486 - val_accuracy: 0.8333\n",
            "Epoch 128/300\n",
            "919/919 - 76s - loss: 0.4762 - accuracy: 0.8721 - val_loss: 0.5928 - val_accuracy: 0.8623\n",
            "Epoch 129/300\n",
            "919/919 - 76s - loss: 0.4929 - accuracy: 0.8700 - val_loss: 0.5849 - val_accuracy: 0.8684\n",
            "Epoch 130/300\n",
            "919/919 - 75s - loss: 0.4477 - accuracy: 0.8847 - val_loss: 0.5830 - val_accuracy: 0.8418\n",
            "Epoch 131/300\n",
            "919/919 - 75s - loss: 0.4491 - accuracy: 0.8881 - val_loss: 0.5801 - val_accuracy: 0.8587\n",
            "Epoch 132/300\n",
            "919/919 - 75s - loss: 0.4591 - accuracy: 0.8838 - val_loss: 0.6117 - val_accuracy: 0.8696\n",
            "Epoch 133/300\n",
            "919/919 - 75s - loss: 0.5255 - accuracy: 0.8682 - val_loss: 0.6925 - val_accuracy: 0.8418\n",
            "Epoch 134/300\n",
            "919/919 - 75s - loss: 0.4823 - accuracy: 0.8789 - val_loss: 0.6543 - val_accuracy: 0.8466\n",
            "Epoch 135/300\n",
            "919/919 - 75s - loss: 0.3933 - accuracy: 0.8956 - val_loss: 0.6826 - val_accuracy: 0.8128\n",
            "Epoch 136/300\n",
            "919/919 - 75s - loss: 0.3811 - accuracy: 0.9041 - val_loss: 0.5300 - val_accuracy: 0.8659\n",
            "Epoch 137/300\n",
            "919/919 - 75s - loss: 0.4183 - accuracy: 0.8970 - val_loss: 0.6256 - val_accuracy: 0.8466\n",
            "Epoch 138/300\n",
            "919/919 - 76s - loss: 0.4995 - accuracy: 0.8790 - val_loss: 0.7207 - val_accuracy: 0.8659\n",
            "Epoch 139/300\n",
            "919/919 - 75s - loss: 0.4234 - accuracy: 0.8965 - val_loss: 0.7822 - val_accuracy: 0.8116\n"
          ]
        }
      ],
      "source": [
        "Earlystop = EarlyStopping(monitor='val_loss', mode='min',patience=65, min_delta=0.001)\n",
        "history = model.fit(train_batches,\n",
        "                    steps_per_epoch=(len(train_df)/10),\n",
        "                    epochs=300,\n",
        "                    verbose=2,\n",
        "                    validation_data=test_batches,validation_steps=len(test_df)/batch_size,callbacks=[checkpoint,Earlystop],class_weight=class_weights)"
      ]
    },
    {
      "cell_type": "code",
      "execution_count": null,
      "metadata": {
        "id": "zm_AewFBXTj8"
      },
      "outputs": [],
      "source": [
        "from tensorflow.keras import models\n",
        "model.load_weights(\"vgg16.hdf5\")"
      ]
    },
    {
      "cell_type": "code",
      "execution_count": null,
      "metadata": {
        "id": "Ebo6jqzIvlHh"
      },
      "outputs": [],
      "source": [
        "predictions = model.predict(test_batches, steps=len(test_df)/batch_size, verbose=0)"
      ]
    },
    {
      "cell_type": "code",
      "execution_count": null,
      "metadata": {
        "colab": {
          "base_uri": "https://localhost:8080/"
        },
        "id": "KYxCDDjusR-S",
        "outputId": "d8db0cd7-ef59-43f4-a006-50252fc8ea92"
      },
      "outputs": [
        {
          "name": "stdout",
          "output_type": "stream",
          "text": [
            "\n",
            "Classification Report:\n",
            "              precision    recall  f1-score   support\n",
            "\n",
            "       akiec       0.62      0.22      0.32        23\n",
            "         bcc       0.54      0.77      0.63        26\n",
            "         bkl       0.57      0.48      0.52        66\n",
            "          df       0.25      0.17      0.20         6\n",
            "         mel       0.50      0.47      0.48        34\n",
            "          nv       0.93      0.96      0.95       663\n",
            "        vasc       1.00      0.90      0.95        10\n",
            "\n",
            "    accuracy                           0.87       828\n",
            "   macro avg       0.63      0.57      0.58       828\n",
            "weighted avg       0.86      0.87      0.86       828\n",
            "\n"
          ]
        }
      ],
      "source": [
        "#geting predictions on test dataset\n",
        "y_pred = np.argmax(predictions, axis=1)\n",
        "targetnames = ['akiec', 'bcc', 'bkl', 'df', 'mel', 'nv', 'vasc']\n",
        "#getting the true labels per image \n",
        "y_true = test_batches.classes\n",
        "#getting the predicted labels per image \n",
        "y_prob=predictions\n",
        "from tensorflow.keras.utils import to_categorical\n",
        "y_test = to_categorical(y_true)\n",
        "\n",
        "# Creating classification report \n",
        "report = classification_report(y_true, y_pred, target_names=targetnames)\n",
        "\n",
        "print(\"\\nClassification Report:\")\n",
        "print(report)"
      ]
    },
    {
      "cell_type": "code",
      "execution_count": null,
      "metadata": {
        "colab": {
          "base_uri": "https://localhost:8080/"
        },
        "id": "yy59Zs1jqylz",
        "outputId": "19d35f71-4c94-4aa1-dae4-0b90e7be01b9"
      },
      "outputs": [
        {
          "name": "stdout",
          "output_type": "stream",
          "text": [
            "Precision: 0.8621944510356151\n",
            "Recall: 0.8695652173913043\n",
            "Accuracy: 0.8695652173913043\n",
            "weighted Roc score: 0.9513705352381553\n"
          ]
        }
      ],
      "source": [
        "print(\"Precision: \"+ str(precision_score(y_true, y_pred, average='weighted')))\n",
        "print(\"Recall: \"+ str(recall_score(y_true, y_pred, average='weighted')))\n",
        "print(\"Accuracy: \" + str(accuracy_score(y_true, y_pred)))\n",
        "print(\"weighted Roc score: \" + str(roc_auc_score(y_true,y_prob,multi_class='ovr',average='weighted')))"
      ]
    },
    {
      "cell_type": "code",
      "execution_count": null,
      "metadata": {
        "colab": {
          "base_uri": "https://localhost:8080/"
        },
        "id": "vFRWOB82sDKi",
        "outputId": "1097dfff-498e-43f8-c1fb-3bea1eb3bebb"
      },
      "outputs": [
        {
          "name": "stdout",
          "output_type": "stream",
          "text": [
            "Precision: 0.6315695296110043\n",
            "Recall: 0.5670728248733364\n",
            "Accuracy: 0.8695652173913043\n",
            "Macro Roc score: 0.9368145039599268\n"
          ]
        }
      ],
      "source": [
        "\n",
        "print(\"Precision: \"+ str(precision_score(y_true, y_pred, average='macro')))\n",
        "print(\"Recall: \"+ str(recall_score(y_true, y_pred, average='macro')))\n",
        "print(\"Accuracy: \" + str(accuracy_score(y_true, y_pred)))\n",
        "print(\"Macro Roc score: \" + str(roc_auc_score(y_true,y_prob,multi_class='ovr',average='macro')))"
      ]
    },
    {
      "cell_type": "code",
      "execution_count": null,
      "metadata": {
        "colab": {
          "base_uri": "https://localhost:8080/"
        },
        "id": "nDNAPv9OsRVg",
        "outputId": "c9d796cf-6903-41cf-82be-3db0e56d81ff"
      },
      "outputs": [
        {
          "name": "stdout",
          "output_type": "stream",
          "text": [
            "Precision: 0.8695652173913043\n",
            "Recall: 0.8695652173913043\n",
            "Accuracy: 0.8695652173913043\n",
            "Micro Roc score: 0.9847059830256638\n"
          ]
        }
      ],
      "source": [
        "print(\"Precision: \"+ str(precision_score(y_true, y_pred, average='micro')))\n",
        "print(\"Recall: \"+ str(recall_score(y_true, y_pred, average='micro')))\n",
        "print(\"Accuracy: \" + str(accuracy_score(y_true, y_pred)))\n",
        "tpr={}\n",
        "fpr={}\n",
        "roc_auc={}\n",
        "fpr[\"micro\"], tpr[\"micro\"], _ = roc_curve(y_test.ravel(), y_prob.ravel())\n",
        "roc_auc[\"micro\"] = auc(fpr[\"micro\"], tpr[\"micro\"])\n",
        "print(\"Micro Roc score: \" + str(roc_auc[\"micro\"]))"
      ]
    },
    {
      "cell_type": "code",
      "execution_count": null,
      "metadata": {
        "colab": {
          "base_uri": "https://localhost:8080/"
        },
        "id": "U03sRDM2sudx",
        "outputId": "5172c173-3cac-432e-a1ab-78aa7091665e"
      },
      "outputs": [
        {
          "name": "stdout",
          "output_type": "stream",
          "text": [
            "The ROC AUC score of akiec is: 0.949662435862814\n",
            "The ROC AUC score of bcc is: 0.9776999808171878\n",
            "The ROC AUC score of bkl is: 0.9308836395450569\n",
            "The ROC AUC score of df is: 0.8477291159772912\n",
            "The ROC AUC score of mel is: 0.9253222699659209\n",
            "The ROC AUC score of nv is: 0.9543991955756661\n",
            "The ROC AUC score of vasc is: 0.9720048899755501\n"
          ]
        }
      ],
      "source": [
        "fpr = {}\n",
        "tpr = {}\n",
        "roc_auc = {}\n",
        "for i in range(7):\n",
        "    r = roc_auc_score(y_test[:, i], y_prob[:, i])\n",
        "    print(\"The ROC AUC score of \"+targetnames[i]+\" is: \"+str(r))"
      ]
    },
    {
      "cell_type": "code",
      "execution_count": null,
      "metadata": {
        "id": "A5nG-b11wkep"
      },
      "outputs": [],
      "source": [
        "# Compute ROC curve and ROC area for each class\n",
        "fpr = {}\n",
        "tpr = {}\n",
        "roc_auc = dict()\n",
        "for i in range(7):\n",
        "    fpr[i], tpr[i], _ = roc_curve(y_test[:, i], y_prob[:, i], drop_intermediate=False)\n",
        "    roc_auc[i] = auc(fpr[i], tpr[i])"
      ]
    },
    {
      "cell_type": "code",
      "execution_count": null,
      "metadata": {
        "colab": {
          "base_uri": "https://localhost:8080/",
          "height": 295
        },
        "id": "9wz2--WDwHQ4",
        "outputId": "0ad02bab-a54c-4afb-bc7a-212e7a2bfd75"
      },
      "outputs": [
        {
          "data": {
            "image/png": "[encoded data removed]",
            "text/plain": [
              "<Figure size 432x288 with 1 Axes>"
            ]
          },
          "metadata": {
            "needs_background": "light",
            "tags": []
          },
          "output_type": "display_data"
        }
      ],
      "source": [
        "\n",
        "plt.plot(fpr[0], tpr[0],'v-',label='akiec: ROC curve of (area = %0.2f)' % roc_auc[0])\n",
        "plt.plot(fpr[1], tpr[1],'c',label='bcc: ROC curve of (area = %0.2f)' % roc_auc[1])\n",
        "plt.plot(fpr[2], tpr[2],'b',label='bkl: ROC curve of (area = %0.2f)' % roc_auc[2])\n",
        "plt.plot(fpr[3], tpr[3],'g',label='df: ROC curve of (area = %0.2f)' % roc_auc[3])\n",
        "plt.plot(fpr[4], tpr[4],'y',label='mel: ROC curve of (area = %0.2f)' % roc_auc[4])\n",
        "plt.plot(fpr[5], tpr[5],'o-',label='nv: ROC curve of (area = %0.2f)' % roc_auc[5])\n",
        "plt.plot(fpr[6], tpr[6],'r',label='vasc: ROC curve of (area = %0.2f)' % roc_auc[6])\n",
        "\n",
        "plt.plot([0, 1], [0, 1], 'k--')\n",
        "plt.xlim([-0.1, 1.1])\n",
        "plt.ylim([-0.1, 1.1])\n",
        "plt.xlabel('False Positive Rate')\n",
        "plt.ylabel('True Positive Rate')\n",
        "plt.title('Receiver operating characteristic of %s'%targetnames[i])\n",
        "plt.legend(loc=\"lower right\")\n",
        "plt.show()"
      ]
    },
    {
      "cell_type": "code",
      "execution_count": null,
      "metadata": {
        "id": "FDTMtBeTdBfU"
      },
      "outputs": [],
      "source": [
        ""
      ]
    }
  ],
  "metadata": {
    "accelerator": "GPU",
    "colab": {
      "collapsed_sections": [],
      "machine_shape": "hm",
      "name": "Vgg16.ipynb",
      "provenance": []
    },
    "kernelspec": {
      "display_name": "Python 3",
      "language": "python",
      "name": "python3"
    },
    "language_info": {
      "codemirror_mode": {
        "name": "ipython",
        "version": 3
      },
      "file_extension": ".py",
      "mimetype": "text/x-python",
      "name": "python",
      "nbconvert_exporter": "python",
      "pygments_lexer": "ipython3",
      "version": "3.7.9"
    }
  },
  "nbformat": 4,
  "nbformat_minor": 0
}